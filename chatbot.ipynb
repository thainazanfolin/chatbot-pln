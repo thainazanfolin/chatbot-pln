{
  "nbformat": 4,
  "nbformat_minor": 0,
  "metadata": {
    "colab": {
      "provenance": [],
      "authorship_tag": "ABX9TyMrhqHhYVp7BWHv3zUM384c",
      "include_colab_link": true
    },
    "kernelspec": {
      "name": "python3",
      "display_name": "Python 3"
    },
    "language_info": {
      "name": "python"
    }
  },
  "cells": [
    {
      "cell_type": "markdown",
      "metadata": {
        "id": "view-in-github",
        "colab_type": "text"
      },
      "source": [
        "<a href=\"https://colab.research.google.com/github/thainazanfolin/chatbot-pln/blob/main/chatbot.ipynb\" target=\"_parent\"><img src=\"https://colab.research.google.com/assets/colab-badge.svg\" alt=\"Open In Colab\"/></a>"
      ]
    },
    {
      "cell_type": "markdown",
      "source": [
        "# **CHATBOT | Curso de Desenvolvimento de Software Multiplataforma <br>**\n",
        "\n",
        "Objetivo: trazer as principais informações sobre o curso de Desenvolvimento de Software Multiplataforma da FATEC Araras a partir da pergunta do usuário. ]\n",
        "\n",
        "Passos a serem desenvolvidos:\n",
        "* Extração de Dados do PDF\n",
        "* Processamento e Estruturação dos Dados\n",
        "* Desenvolvimento do Chatbot\n",
        "* Criação da Interface Gráfica\n",
        "* Testes e Validação\n",
        "\n",
        "https://raw.githubusercontent.com/SEU_USUARIO/SEU_REPOSITORIO/ramo/main/seu_arquivo.pdf\n",
        "\n",
        "\n",
        "<br>\n",
        "\n"
      ],
      "metadata": {
        "id": "DkdqnT66B7mT"
      }
    },
    {
      "cell_type": "code",
      "source": [
        "!pip install pdfplumber #importando a bilbioteca pdfplumber, que faz leitura do PDF\n",
        "import pdfplumber\n",
        "\n",
        "print(pdfplumber.__version__)  #a versão instalada: 0.11.4\n",
        "\n",
        "!pip install requests beautifulsoup4\n"
      ],
      "metadata": {
        "colab": {
          "base_uri": "https://localhost:8080/"
        },
        "id": "b_3GjyZgEKjg",
        "outputId": "67979832-4450-4487-e056-579f17846858"
      },
      "execution_count": 28,
      "outputs": [
        {
          "output_type": "stream",
          "name": "stdout",
          "text": [
            "Requirement already satisfied: pdfplumber in /usr/local/lib/python3.10/dist-packages (0.11.4)\n",
            "Requirement already satisfied: pdfminer.six==20231228 in /usr/local/lib/python3.10/dist-packages (from pdfplumber) (20231228)\n",
            "Requirement already satisfied: Pillow>=9.1 in /usr/local/lib/python3.10/dist-packages (from pdfplumber) (10.4.0)\n",
            "Requirement already satisfied: pypdfium2>=4.18.0 in /usr/local/lib/python3.10/dist-packages (from pdfplumber) (4.30.0)\n",
            "Requirement already satisfied: charset-normalizer>=2.0.0 in /usr/local/lib/python3.10/dist-packages (from pdfminer.six==20231228->pdfplumber) (3.4.0)\n",
            "Requirement already satisfied: cryptography>=36.0.0 in /usr/local/lib/python3.10/dist-packages (from pdfminer.six==20231228->pdfplumber) (43.0.1)\n",
            "Requirement already satisfied: cffi>=1.12 in /usr/local/lib/python3.10/dist-packages (from cryptography>=36.0.0->pdfminer.six==20231228->pdfplumber) (1.17.1)\n",
            "Requirement already satisfied: pycparser in /usr/local/lib/python3.10/dist-packages (from cffi>=1.12->cryptography>=36.0.0->pdfminer.six==20231228->pdfplumber) (2.22)\n",
            "0.11.4\n",
            "Requirement already satisfied: requests in /usr/local/lib/python3.10/dist-packages (2.32.3)\n",
            "Requirement already satisfied: beautifulsoup4 in /usr/local/lib/python3.10/dist-packages (4.12.3)\n",
            "Requirement already satisfied: charset-normalizer<4,>=2 in /usr/local/lib/python3.10/dist-packages (from requests) (3.4.0)\n",
            "Requirement already satisfied: idna<4,>=2.5 in /usr/local/lib/python3.10/dist-packages (from requests) (3.10)\n",
            "Requirement already satisfied: urllib3<3,>=1.21.1 in /usr/local/lib/python3.10/dist-packages (from requests) (2.2.3)\n",
            "Requirement already satisfied: certifi>=2017.4.17 in /usr/local/lib/python3.10/dist-packages (from requests) (2024.8.30)\n",
            "Requirement already satisfied: soupsieve>1.2 in /usr/local/lib/python3.10/dist-packages (from beautifulsoup4) (2.6)\n"
          ]
        }
      ]
    },
    {
      "cell_type": "markdown",
      "source": [
        "**EXPLICAÇÃO**"
      ],
      "metadata": {
        "id": "DuNrzxwCNcgi"
      }
    },
    {
      "cell_type": "code",
      "source": [
        "import requests\n",
        "\n",
        "# URL do arquivo raw no GitHub\n",
        "url = 'https://raw.githubusercontent.com/thainazanfolin/chatbot-pln/refs/heads/main/curso-desenvolvimento-software.txt'\n",
        "\n",
        "# Baixar o conteúdo do arquivo .txt usando requests\n",
        "def carregar_conteudo():\n",
        "    response = requests.get(url)\n",
        "\n",
        "    # Verificar se a requisição foi bem-sucedida\n",
        "    if response.status_code == 200:\n",
        "        return response.text\n",
        "    else:\n",
        "        return f\"Erro ao acessar o arquivo: {response.status_code}\"\n",
        "\n",
        "# Carregar o conteúdo na variável que vamos utilizar com o texto sobre o curso\n",
        "texto_fatec = carregar_conteudo()\n",
        "\n",
        "# Imprimir o início do texto (50 primeiros caracteres)\n",
        "print(texto_fatec[:500])\n",
        "\n"
      ],
      "metadata": {
        "id": "uIPNFmFrIuFg",
        "colab": {
          "base_uri": "https://localhost:8080/"
        },
        "outputId": "16ed2c20-b9d0-4d37-d4de-ba5121ac29cd"
      },
      "execution_count": 29,
      "outputs": [
        {
          "output_type": "stream",
          "name": "stdout",
          "text": [
            "Estrutura do Curso\r\n",
            "Modalidade: Presencial com 20% da carga horária oferecida remotamente (aulas remotas síncronas).\r\n",
            "Carga Horária Total: 2.400 horas (2880 aulas de 50 minutos cada).\r\n",
            "Estágio Supervisionado: 240 horas obrigatórias.\r\n",
            "Duração: 6 semestres (mínimo de 3 anos, máximo de 5 anos).\r\n",
            "Vagas: 40 por turno (noturno).\r\n",
            "Forma de Acesso: Vestibular (prova única com questões do Ensino Médio) ou processo seletivo para vagas remanescentes.\r\n",
            "\r\n",
            "Semestres e Disciplinas\r\n",
            "1º Semestre\r\n",
            "Algoritmo e Lóg\n"
          ]
        }
      ]
    },
    {
      "cell_type": "markdown",
      "source": [
        "Com o texto extraído, vamos para os próximos passos:\n",
        "\n",
        "Limpeza e Preparação do Texto <br>\n",
        "Antes de usar o texto no chatbot, é importante fazer a limpeza e pré-processamento dos dados.\n",
        "\n",
        "Isso envolve:\n",
        "\n",
        "* Remover caracteres especiais, pontuações e espaços desnecessários.\n",
        "* Transformar todo o texto em minúsculas, para padronização.\n",
        "* Tokenizar o texto (dividir em palavras ou frases, dependendo do contexto)."
      ],
      "metadata": {
        "id": "TcdGyL5cNQ4H"
      }
    },
    {
      "cell_type": "markdown",
      "source": [
        "# LIMPEZA\n",
        "## PARTE 1: fazendo a tokenização"
      ],
      "metadata": {
        "id": "2MATs0YyUL7b"
      }
    },
    {
      "cell_type": "code",
      "source": [
        "!pip install spacy #importanto bilbioteca spacy\n",
        "\n",
        "#importanto biblioteca em portugues\n",
        "!python -m spacy download pt_core_news_lg\n"
      ],
      "metadata": {
        "colab": {
          "base_uri": "https://localhost:8080/"
        },
        "collapsed": true,
        "id": "_5rHvfDLUNtG",
        "outputId": "0e939244-760b-4d2d-8292-cb91313677fc"
      },
      "execution_count": 30,
      "outputs": [
        {
          "output_type": "stream",
          "name": "stdout",
          "text": [
            "Requirement already satisfied: spacy in /usr/local/lib/python3.10/dist-packages (3.7.5)\n",
            "Requirement already satisfied: spacy-legacy<3.1.0,>=3.0.11 in /usr/local/lib/python3.10/dist-packages (from spacy) (3.0.12)\n",
            "Requirement already satisfied: spacy-loggers<2.0.0,>=1.0.0 in /usr/local/lib/python3.10/dist-packages (from spacy) (1.0.5)\n",
            "Requirement already satisfied: murmurhash<1.1.0,>=0.28.0 in /usr/local/lib/python3.10/dist-packages (from spacy) (1.0.10)\n",
            "Requirement already satisfied: cymem<2.1.0,>=2.0.2 in /usr/local/lib/python3.10/dist-packages (from spacy) (2.0.8)\n",
            "Requirement already satisfied: preshed<3.1.0,>=3.0.2 in /usr/local/lib/python3.10/dist-packages (from spacy) (3.0.9)\n",
            "Requirement already satisfied: thinc<8.3.0,>=8.2.2 in /usr/local/lib/python3.10/dist-packages (from spacy) (8.2.5)\n",
            "Requirement already satisfied: wasabi<1.2.0,>=0.9.1 in /usr/local/lib/python3.10/dist-packages (from spacy) (1.1.3)\n",
            "Requirement already satisfied: srsly<3.0.0,>=2.4.3 in /usr/local/lib/python3.10/dist-packages (from spacy) (2.4.8)\n",
            "Requirement already satisfied: catalogue<2.1.0,>=2.0.6 in /usr/local/lib/python3.10/dist-packages (from spacy) (2.0.10)\n",
            "Requirement already satisfied: weasel<0.5.0,>=0.1.0 in /usr/local/lib/python3.10/dist-packages (from spacy) (0.4.1)\n",
            "Requirement already satisfied: typer<1.0.0,>=0.3.0 in /usr/local/lib/python3.10/dist-packages (from spacy) (0.12.5)\n",
            "Requirement already satisfied: tqdm<5.0.0,>=4.38.0 in /usr/local/lib/python3.10/dist-packages (from spacy) (4.66.5)\n",
            "Requirement already satisfied: requests<3.0.0,>=2.13.0 in /usr/local/lib/python3.10/dist-packages (from spacy) (2.32.3)\n",
            "Requirement already satisfied: pydantic!=1.8,!=1.8.1,<3.0.0,>=1.7.4 in /usr/local/lib/python3.10/dist-packages (from spacy) (2.9.2)\n",
            "Requirement already satisfied: jinja2 in /usr/local/lib/python3.10/dist-packages (from spacy) (3.1.4)\n",
            "Requirement already satisfied: setuptools in /usr/local/lib/python3.10/dist-packages (from spacy) (71.0.4)\n",
            "Requirement already satisfied: packaging>=20.0 in /usr/local/lib/python3.10/dist-packages (from spacy) (24.1)\n",
            "Requirement already satisfied: langcodes<4.0.0,>=3.2.0 in /usr/local/lib/python3.10/dist-packages (from spacy) (3.4.1)\n",
            "Requirement already satisfied: numpy>=1.19.0 in /usr/local/lib/python3.10/dist-packages (from spacy) (1.26.4)\n",
            "Requirement already satisfied: language-data>=1.2 in /usr/local/lib/python3.10/dist-packages (from langcodes<4.0.0,>=3.2.0->spacy) (1.2.0)\n",
            "Requirement already satisfied: annotated-types>=0.6.0 in /usr/local/lib/python3.10/dist-packages (from pydantic!=1.8,!=1.8.1,<3.0.0,>=1.7.4->spacy) (0.7.0)\n",
            "Requirement already satisfied: pydantic-core==2.23.4 in /usr/local/lib/python3.10/dist-packages (from pydantic!=1.8,!=1.8.1,<3.0.0,>=1.7.4->spacy) (2.23.4)\n",
            "Requirement already satisfied: typing-extensions>=4.6.1 in /usr/local/lib/python3.10/dist-packages (from pydantic!=1.8,!=1.8.1,<3.0.0,>=1.7.4->spacy) (4.12.2)\n",
            "Requirement already satisfied: charset-normalizer<4,>=2 in /usr/local/lib/python3.10/dist-packages (from requests<3.0.0,>=2.13.0->spacy) (3.4.0)\n",
            "Requirement already satisfied: idna<4,>=2.5 in /usr/local/lib/python3.10/dist-packages (from requests<3.0.0,>=2.13.0->spacy) (3.10)\n",
            "Requirement already satisfied: urllib3<3,>=1.21.1 in /usr/local/lib/python3.10/dist-packages (from requests<3.0.0,>=2.13.0->spacy) (2.2.3)\n",
            "Requirement already satisfied: certifi>=2017.4.17 in /usr/local/lib/python3.10/dist-packages (from requests<3.0.0,>=2.13.0->spacy) (2024.8.30)\n",
            "Requirement already satisfied: blis<0.8.0,>=0.7.8 in /usr/local/lib/python3.10/dist-packages (from thinc<8.3.0,>=8.2.2->spacy) (0.7.11)\n",
            "Requirement already satisfied: confection<1.0.0,>=0.0.1 in /usr/local/lib/python3.10/dist-packages (from thinc<8.3.0,>=8.2.2->spacy) (0.1.5)\n",
            "Requirement already satisfied: click>=8.0.0 in /usr/local/lib/python3.10/dist-packages (from typer<1.0.0,>=0.3.0->spacy) (8.1.7)\n",
            "Requirement already satisfied: shellingham>=1.3.0 in /usr/local/lib/python3.10/dist-packages (from typer<1.0.0,>=0.3.0->spacy) (1.5.4)\n",
            "Requirement already satisfied: rich>=10.11.0 in /usr/local/lib/python3.10/dist-packages (from typer<1.0.0,>=0.3.0->spacy) (13.9.2)\n",
            "Requirement already satisfied: cloudpathlib<1.0.0,>=0.7.0 in /usr/local/lib/python3.10/dist-packages (from weasel<0.5.0,>=0.1.0->spacy) (0.19.0)\n",
            "Requirement already satisfied: smart-open<8.0.0,>=5.2.1 in /usr/local/lib/python3.10/dist-packages (from weasel<0.5.0,>=0.1.0->spacy) (7.0.5)\n",
            "Requirement already satisfied: MarkupSafe>=2.0 in /usr/local/lib/python3.10/dist-packages (from jinja2->spacy) (3.0.1)\n",
            "Requirement already satisfied: marisa-trie>=0.7.7 in /usr/local/lib/python3.10/dist-packages (from language-data>=1.2->langcodes<4.0.0,>=3.2.0->spacy) (1.2.0)\n",
            "Requirement already satisfied: markdown-it-py>=2.2.0 in /usr/local/lib/python3.10/dist-packages (from rich>=10.11.0->typer<1.0.0,>=0.3.0->spacy) (3.0.0)\n",
            "Requirement already satisfied: pygments<3.0.0,>=2.13.0 in /usr/local/lib/python3.10/dist-packages (from rich>=10.11.0->typer<1.0.0,>=0.3.0->spacy) (2.18.0)\n",
            "Requirement already satisfied: wrapt in /usr/local/lib/python3.10/dist-packages (from smart-open<8.0.0,>=5.2.1->weasel<0.5.0,>=0.1.0->spacy) (1.16.0)\n",
            "Requirement already satisfied: mdurl~=0.1 in /usr/local/lib/python3.10/dist-packages (from markdown-it-py>=2.2.0->rich>=10.11.0->typer<1.0.0,>=0.3.0->spacy) (0.1.2)\n",
            "Collecting pt-core-news-lg==3.7.0\n",
            "  Downloading https://github.com/explosion/spacy-models/releases/download/pt_core_news_lg-3.7.0/pt_core_news_lg-3.7.0-py3-none-any.whl (568.2 MB)\n",
            "\u001b[2K     \u001b[90m━━━━━━━━━━━━━━━━━━━━━━━━━━━━━━━━━━━━━━━━\u001b[0m \u001b[32m568.2/568.2 MB\u001b[0m \u001b[31m1.4 MB/s\u001b[0m eta \u001b[36m0:00:00\u001b[0m\n",
            "\u001b[?25hRequirement already satisfied: spacy<3.8.0,>=3.7.0 in /usr/local/lib/python3.10/dist-packages (from pt-core-news-lg==3.7.0) (3.7.5)\n",
            "Requirement already satisfied: spacy-legacy<3.1.0,>=3.0.11 in /usr/local/lib/python3.10/dist-packages (from spacy<3.8.0,>=3.7.0->pt-core-news-lg==3.7.0) (3.0.12)\n",
            "Requirement already satisfied: spacy-loggers<2.0.0,>=1.0.0 in /usr/local/lib/python3.10/dist-packages (from spacy<3.8.0,>=3.7.0->pt-core-news-lg==3.7.0) (1.0.5)\n",
            "Requirement already satisfied: murmurhash<1.1.0,>=0.28.0 in /usr/local/lib/python3.10/dist-packages (from spacy<3.8.0,>=3.7.0->pt-core-news-lg==3.7.0) (1.0.10)\n",
            "Requirement already satisfied: cymem<2.1.0,>=2.0.2 in /usr/local/lib/python3.10/dist-packages (from spacy<3.8.0,>=3.7.0->pt-core-news-lg==3.7.0) (2.0.8)\n",
            "Requirement already satisfied: preshed<3.1.0,>=3.0.2 in /usr/local/lib/python3.10/dist-packages (from spacy<3.8.0,>=3.7.0->pt-core-news-lg==3.7.0) (3.0.9)\n",
            "Requirement already satisfied: thinc<8.3.0,>=8.2.2 in /usr/local/lib/python3.10/dist-packages (from spacy<3.8.0,>=3.7.0->pt-core-news-lg==3.7.0) (8.2.5)\n",
            "Requirement already satisfied: wasabi<1.2.0,>=0.9.1 in /usr/local/lib/python3.10/dist-packages (from spacy<3.8.0,>=3.7.0->pt-core-news-lg==3.7.0) (1.1.3)\n",
            "Requirement already satisfied: srsly<3.0.0,>=2.4.3 in /usr/local/lib/python3.10/dist-packages (from spacy<3.8.0,>=3.7.0->pt-core-news-lg==3.7.0) (2.4.8)\n",
            "Requirement already satisfied: catalogue<2.1.0,>=2.0.6 in /usr/local/lib/python3.10/dist-packages (from spacy<3.8.0,>=3.7.0->pt-core-news-lg==3.7.0) (2.0.10)\n",
            "Requirement already satisfied: weasel<0.5.0,>=0.1.0 in /usr/local/lib/python3.10/dist-packages (from spacy<3.8.0,>=3.7.0->pt-core-news-lg==3.7.0) (0.4.1)\n",
            "Requirement already satisfied: typer<1.0.0,>=0.3.0 in /usr/local/lib/python3.10/dist-packages (from spacy<3.8.0,>=3.7.0->pt-core-news-lg==3.7.0) (0.12.5)\n",
            "Requirement already satisfied: tqdm<5.0.0,>=4.38.0 in /usr/local/lib/python3.10/dist-packages (from spacy<3.8.0,>=3.7.0->pt-core-news-lg==3.7.0) (4.66.5)\n",
            "Requirement already satisfied: requests<3.0.0,>=2.13.0 in /usr/local/lib/python3.10/dist-packages (from spacy<3.8.0,>=3.7.0->pt-core-news-lg==3.7.0) (2.32.3)\n",
            "Requirement already satisfied: pydantic!=1.8,!=1.8.1,<3.0.0,>=1.7.4 in /usr/local/lib/python3.10/dist-packages (from spacy<3.8.0,>=3.7.0->pt-core-news-lg==3.7.0) (2.9.2)\n",
            "Requirement already satisfied: jinja2 in /usr/local/lib/python3.10/dist-packages (from spacy<3.8.0,>=3.7.0->pt-core-news-lg==3.7.0) (3.1.4)\n",
            "Requirement already satisfied: setuptools in /usr/local/lib/python3.10/dist-packages (from spacy<3.8.0,>=3.7.0->pt-core-news-lg==3.7.0) (71.0.4)\n",
            "Requirement already satisfied: packaging>=20.0 in /usr/local/lib/python3.10/dist-packages (from spacy<3.8.0,>=3.7.0->pt-core-news-lg==3.7.0) (24.1)\n",
            "Requirement already satisfied: langcodes<4.0.0,>=3.2.0 in /usr/local/lib/python3.10/dist-packages (from spacy<3.8.0,>=3.7.0->pt-core-news-lg==3.7.0) (3.4.1)\n",
            "Requirement already satisfied: numpy>=1.19.0 in /usr/local/lib/python3.10/dist-packages (from spacy<3.8.0,>=3.7.0->pt-core-news-lg==3.7.0) (1.26.4)\n",
            "Requirement already satisfied: language-data>=1.2 in /usr/local/lib/python3.10/dist-packages (from langcodes<4.0.0,>=3.2.0->spacy<3.8.0,>=3.7.0->pt-core-news-lg==3.7.0) (1.2.0)\n",
            "Requirement already satisfied: annotated-types>=0.6.0 in /usr/local/lib/python3.10/dist-packages (from pydantic!=1.8,!=1.8.1,<3.0.0,>=1.7.4->spacy<3.8.0,>=3.7.0->pt-core-news-lg==3.7.0) (0.7.0)\n",
            "Requirement already satisfied: pydantic-core==2.23.4 in /usr/local/lib/python3.10/dist-packages (from pydantic!=1.8,!=1.8.1,<3.0.0,>=1.7.4->spacy<3.8.0,>=3.7.0->pt-core-news-lg==3.7.0) (2.23.4)\n",
            "Requirement already satisfied: typing-extensions>=4.6.1 in /usr/local/lib/python3.10/dist-packages (from pydantic!=1.8,!=1.8.1,<3.0.0,>=1.7.4->spacy<3.8.0,>=3.7.0->pt-core-news-lg==3.7.0) (4.12.2)\n",
            "Requirement already satisfied: charset-normalizer<4,>=2 in /usr/local/lib/python3.10/dist-packages (from requests<3.0.0,>=2.13.0->spacy<3.8.0,>=3.7.0->pt-core-news-lg==3.7.0) (3.4.0)\n",
            "Requirement already satisfied: idna<4,>=2.5 in /usr/local/lib/python3.10/dist-packages (from requests<3.0.0,>=2.13.0->spacy<3.8.0,>=3.7.0->pt-core-news-lg==3.7.0) (3.10)\n",
            "Requirement already satisfied: urllib3<3,>=1.21.1 in /usr/local/lib/python3.10/dist-packages (from requests<3.0.0,>=2.13.0->spacy<3.8.0,>=3.7.0->pt-core-news-lg==3.7.0) (2.2.3)\n",
            "Requirement already satisfied: certifi>=2017.4.17 in /usr/local/lib/python3.10/dist-packages (from requests<3.0.0,>=2.13.0->spacy<3.8.0,>=3.7.0->pt-core-news-lg==3.7.0) (2024.8.30)\n",
            "Requirement already satisfied: blis<0.8.0,>=0.7.8 in /usr/local/lib/python3.10/dist-packages (from thinc<8.3.0,>=8.2.2->spacy<3.8.0,>=3.7.0->pt-core-news-lg==3.7.0) (0.7.11)\n",
            "Requirement already satisfied: confection<1.0.0,>=0.0.1 in /usr/local/lib/python3.10/dist-packages (from thinc<8.3.0,>=8.2.2->spacy<3.8.0,>=3.7.0->pt-core-news-lg==3.7.0) (0.1.5)\n",
            "Requirement already satisfied: click>=8.0.0 in /usr/local/lib/python3.10/dist-packages (from typer<1.0.0,>=0.3.0->spacy<3.8.0,>=3.7.0->pt-core-news-lg==3.7.0) (8.1.7)\n",
            "Requirement already satisfied: shellingham>=1.3.0 in /usr/local/lib/python3.10/dist-packages (from typer<1.0.0,>=0.3.0->spacy<3.8.0,>=3.7.0->pt-core-news-lg==3.7.0) (1.5.4)\n",
            "Requirement already satisfied: rich>=10.11.0 in /usr/local/lib/python3.10/dist-packages (from typer<1.0.0,>=0.3.0->spacy<3.8.0,>=3.7.0->pt-core-news-lg==3.7.0) (13.9.2)\n",
            "Requirement already satisfied: cloudpathlib<1.0.0,>=0.7.0 in /usr/local/lib/python3.10/dist-packages (from weasel<0.5.0,>=0.1.0->spacy<3.8.0,>=3.7.0->pt-core-news-lg==3.7.0) (0.19.0)\n",
            "Requirement already satisfied: smart-open<8.0.0,>=5.2.1 in /usr/local/lib/python3.10/dist-packages (from weasel<0.5.0,>=0.1.0->spacy<3.8.0,>=3.7.0->pt-core-news-lg==3.7.0) (7.0.5)\n",
            "Requirement already satisfied: MarkupSafe>=2.0 in /usr/local/lib/python3.10/dist-packages (from jinja2->spacy<3.8.0,>=3.7.0->pt-core-news-lg==3.7.0) (3.0.1)\n",
            "Requirement already satisfied: marisa-trie>=0.7.7 in /usr/local/lib/python3.10/dist-packages (from language-data>=1.2->langcodes<4.0.0,>=3.2.0->spacy<3.8.0,>=3.7.0->pt-core-news-lg==3.7.0) (1.2.0)\n",
            "Requirement already satisfied: markdown-it-py>=2.2.0 in /usr/local/lib/python3.10/dist-packages (from rich>=10.11.0->typer<1.0.0,>=0.3.0->spacy<3.8.0,>=3.7.0->pt-core-news-lg==3.7.0) (3.0.0)\n",
            "Requirement already satisfied: pygments<3.0.0,>=2.13.0 in /usr/local/lib/python3.10/dist-packages (from rich>=10.11.0->typer<1.0.0,>=0.3.0->spacy<3.8.0,>=3.7.0->pt-core-news-lg==3.7.0) (2.18.0)\n",
            "Requirement already satisfied: wrapt in /usr/local/lib/python3.10/dist-packages (from smart-open<8.0.0,>=5.2.1->weasel<0.5.0,>=0.1.0->spacy<3.8.0,>=3.7.0->pt-core-news-lg==3.7.0) (1.16.0)\n",
            "Requirement already satisfied: mdurl~=0.1 in /usr/local/lib/python3.10/dist-packages (from markdown-it-py>=2.2.0->rich>=10.11.0->typer<1.0.0,>=0.3.0->spacy<3.8.0,>=3.7.0->pt-core-news-lg==3.7.0) (0.1.2)\n",
            "\u001b[38;5;2m✔ Download and installation successful\u001b[0m\n",
            "You can now load the package via spacy.load('pt_core_news_lg')\n",
            "\u001b[38;5;3m⚠ Restart to reload dependencies\u001b[0m\n",
            "If you are in a Jupyter or Colab notebook, you may need to restart Python in\n",
            "order to load all the package's dependencies. You can do this by selecting the\n",
            "'Restart kernel' or 'Restart runtime' option.\n"
          ]
        }
      ]
    },
    {
      "cell_type": "code",
      "source": [
        "import spacy\n",
        "\n",
        "# Carregar o modelo de linguagem em português\n",
        "nlp = spacy.load(\"pt_core_news_lg\")\n",
        "\n",
        "# Processar o texto com o spaCy para tokenização\n",
        "doc = nlp(texto_fatec)\n",
        "\n",
        "# Extrair os tokens\n",
        "tokens = [token.text for token in doc]\n",
        "\n",
        "# Exibir os tokens\n",
        "print(tokens[:500])  # Exibe a lista de tokens"
      ],
      "metadata": {
        "colab": {
          "base_uri": "https://localhost:8080/"
        },
        "id": "V-jNNErqWNm8",
        "outputId": "5640782b-1390-4887-badc-bfb21d48a13f"
      },
      "execution_count": 31,
      "outputs": [
        {
          "output_type": "stream",
          "name": "stdout",
          "text": [
            "['Estrutura', 'do', 'Curso', '\\r\\n', 'Modalidade', ':', 'Presencial', 'com', '20', '%', 'da', 'carga', 'horária', 'oferecida', 'remotamente', '(', 'aulas', 'remotas', 'síncronas', ')', '.', '\\r\\n', 'Carga', 'Horária', 'Total', ':', '2.400', 'horas', '(', '2880', 'aulas', 'de', '50', 'minutos', 'cada', ')', '.', '\\r\\n', 'Estágio', 'Supervisionado', ':', '240', 'horas', 'obrigatórias', '.', '\\r\\n', 'Duração', ':', '6', 'semestres', '(', 'mínimo', 'de', '3', 'anos', ',', 'máximo', 'de', '5', 'anos', ')', '.', '\\r\\n', 'Vagas', ':', '40', 'por', 'turno', '(', 'noturno', ')', '.', '\\r\\n', 'Forma', 'de', 'Acesso', ':', 'Vestibular', '(', 'prova', 'única', 'com', 'questões', 'do', 'Ensino', 'Médio', ')', 'ou', 'processo', 'seletivo', 'para', 'vagas', 'remanescentes', '.', '\\r\\n\\r\\n', 'Semestres', 'e', 'Disciplinas', '\\r\\n', '1º', 'Semestre', '\\r\\n', 'Algoritmo', 'e', 'Lógica', 'de', 'Programação', ':', 'Desenvolver', 'competências', 'para', 'distinguir', 'e', 'aplicar', 'metodologias', 'de', 'desenvolvimento', 'de', 'software', ',', 'além', 'de', 'criar', 'algoritmos', 'e', 'programas', 'de', 'computador', ',', 'aplicando', 'conceitos', 'de', 'lógica', 'de', 'programação', '.', '\\r\\n', 'Desenvolvimento', 'Web', 'I', ':', 'Introduzir', 'os', 'alunos', 'ao', 'desenvolvimento', 'de', 'aplicações', 'web', ',', 'utilizando', 'linguagens', 'de', 'marcação', 'e', 'programação', 'para', 'criar', 'páginas', 'web', 'estáticas', 'e', 'dinâmicas', '.', '\\r\\n', 'Design', 'Digital', ':', 'Ensinar', 'os', 'princípios', 'de', 'design', 'digital', ',', 'focando', 'na', 'criação', 'de', 'interfaces', 'gráficas', ',', 'experiência', 'do', 'usuário', 'e', 'interação', 'com', 'sistemas', 'computacionais', '.', '\\r\\n', 'Engenharia', 'de', 'Software', 'I', ':', 'Apresentar', 'os', 'conceitos', 'básicos', 'de', 'engenharia', 'de', 'software', ',', 'incluindo', 'o', 'ciclo', 'de', 'vida', 'do', 'software', 'e', 'as', 'metodologias', 'de', 'desenvolvimento', '.', '\\r\\n', 'Modelagem', 'de', 'Banco', 'de', 'Dados', ':', 'Introduzir', 'o', 'aluno', 'à', 'modelagem', 'de', 'dados', ',', 'focando', 'em', 'banco', 'de', 'dados', 'relacionais', 'e', 'as', 'técnicas', 'para', 'projetar', 'estruturas', 'de', 'armazenamento', 'eficientes', '.', '\\r\\n', 'Sistemas', 'Operacionais', 'e', 'Redes', 'de', 'Computadores', ':', 'Ensinar', 'os', 'fundamentos', 'de', 'sistemas', 'operacionais', 'e', 'redes', ',', 'preparando', 'os', 'alunos', 'para', 'compreender', 'as', 'interações', 'entre', 'hardware', 'e', 'software', '.', '\\r\\n\\r\\n', '2º', 'Semestre', '\\r\\n', 'Técnica', 'de', 'Programação', 'I', ':', 'Desenvolver', 'habilidades', 'em', 'programação', 'orientada', 'a', 'objetos', ',', 'com', 'foco', 'em', 'abstração', ',', 'encapsulamento', ',', 'herança', 'e', 'polimorfismo', ',', 'além', 'de', 'interfaces', 'gráficas', 'e', 'controle', 'de', 'exceções', '.', '\\r\\n', 'Desenvolvimento', 'Web', 'II', ':', 'Avançar', 'no', 'desenvolvimento', 'web', ',', 'trabalhando', 'com', 'frameworks', ',', 'banco', 'de', 'dados', 'e', 'criando', 'APIs', 'para', 'aplicações', '.', '\\r\\n', 'Matemática', 'para', 'Computação', ':', 'Prover', 'os', 'fundamentos', 'matemáticos', 'para', 'apoiar', 'o', 'desenvolvimento', 'de', 'algoritmos', 'e', 'soluções', 'computacionais', '.', '\\r\\n', 'Engenharia', 'de', 'Software', 'II', ':', 'Aprofundar', 'os', 'conceitos', 'de', 'engenharia', 'de', 'software', ',', 'com', 'ênfase', 'no', 'gerenciamento', 'de', 'requisitos', ',', 'design', 'e', 'validação', 'de', 'software', '.', '\\r\\n', 'Banco', 'de', 'Dados', 'Relacional', ':', 'Ensinar', 'como', 'trabalhar', 'com', 'bancos', 'de', 'dados', 'relacionais', ',', 'focando', 'em', 'consultas', 'SQL', 'e', 'manipulação', 'de', 'dados', '.', '\\r\\n', 'Estrutura', 'de', 'Dados', ':', 'Introduzir', 'as', 'principais', 'estruturas', 'de', 'dados', '(', 'listas', ',', 'pilhas', ',', 'filas', ',', 'árvores', ')', 'e', 'suas', 'implementações', '.', '\\r\\n\\r\\n', '3º', 'Semestre', '\\r\\n', 'Técnica', 'de', 'Programação', 'II', ':', 'Aplicar', 'padrões', 'de', 'projeto', 'no', 'desenvolvimento', 'de', 'aplicações', 'orientadas', 'a', 'objetos', '.', '\\r\\n', 'Desenvolvimento', 'Web', 'III', ':', 'Focar', 'no', 'desenvolvimento', 'de', 'aplicações', 'web', 'escaláveis', 'e', 'seguras', ',', 'utilizando', 'práticas', 'de', 'integração', 'e', 'entrega', 'contínua', '.', '\\r\\n', 'Álgebra', 'Linear', ':', 'Fornecer', 'uma', 'base', 'sólida', 'em', 'álgebra', 'linear', 'para', 'auxiliar', 'na', 'resolução', 'de', 'problemas', 'computacionais', 'e', 'em', 'machine', 'learning', '.']\n"
          ]
        }
      ]
    },
    {
      "cell_type": "markdown",
      "source": [
        "## PARTE 2: removendo as Stopwords"
      ],
      "metadata": {
        "id": "NJfE18BaWs_C"
      }
    },
    {
      "cell_type": "code",
      "source": [
        "# Remover stop words\n",
        "filtered_tokens = [token.text for token in doc if not token.is_stop]\n",
        "\n",
        "# Exibir os tokens filtrados\n",
        "print(filtered_tokens)  # Exibe a lista de tokens sem stop words\n",
        "\n",
        "#atribuindo o texto limpo em uma variavel\n",
        "doc = filtered_tokens"
      ],
      "metadata": {
        "colab": {
          "base_uri": "https://localhost:8080/"
        },
        "id": "tmYL-P6iWvrB",
        "outputId": "f4544b58-b3be-46d2-9868-c2bfe598bbec"
      },
      "execution_count": 32,
      "outputs": [
        {
          "output_type": "stream",
          "name": "stdout",
          "text": [
            "['Estrutura', 'Curso', '\\r\\n', 'Modalidade', ':', 'Presencial', '20', '%', 'carga', 'horária', 'oferecida', 'remotamente', '(', 'aulas', 'remotas', 'síncronas', ')', '.', '\\r\\n', 'Carga', 'Horária', 'Total', ':', '2.400', 'horas', '(', '2880', 'aulas', '50', 'minutos', ')', '.', '\\r\\n', 'Estágio', 'Supervisionado', ':', '240', 'horas', 'obrigatórias', '.', '\\r\\n', 'Duração', ':', '6', 'semestres', '(', 'mínimo', '3', 'anos', ',', '5', 'anos', ')', '.', '\\r\\n', 'Vagas', ':', '40', 'turno', '(', 'noturno', ')', '.', '\\r\\n', 'Acesso', ':', 'Vestibular', '(', 'prova', 'única', 'questões', 'Ensino', 'Médio', ')', 'processo', 'seletivo', 'vagas', 'remanescentes', '.', '\\r\\n\\r\\n', 'Semestres', 'Disciplinas', '\\r\\n', '1º', 'Semestre', '\\r\\n', 'Algoritmo', 'Lógica', 'Programação', ':', 'Desenvolver', 'competências', 'distinguir', 'aplicar', 'metodologias', 'desenvolvimento', 'software', ',', 'criar', 'algoritmos', 'programas', 'computador', ',', 'aplicando', 'conceitos', 'lógica', 'programação', '.', '\\r\\n', 'Desenvolvimento', 'Web', 'I', ':', 'Introduzir', 'alunos', 'desenvolvimento', 'aplicações', 'web', ',', 'utilizando', 'linguagens', 'marcação', 'programação', 'criar', 'páginas', 'web', 'estáticas', 'dinâmicas', '.', '\\r\\n', 'Design', 'Digital', ':', 'Ensinar', 'princípios', 'design', 'digital', ',', 'focando', 'criação', 'interfaces', 'gráficas', ',', 'experiência', 'usuário', 'interação', 'sistemas', 'computacionais', '.', '\\r\\n', 'Engenharia', 'Software', 'I', ':', 'Apresentar', 'conceitos', 'básicos', 'engenharia', 'software', ',', 'incluindo', 'ciclo', 'vida', 'software', 'metodologias', 'desenvolvimento', '.', '\\r\\n', 'Modelagem', 'Banco', 'Dados', ':', 'Introduzir', 'aluno', 'modelagem', 'dados', ',', 'focando', 'banco', 'dados', 'relacionais', 'técnicas', 'projetar', 'estruturas', 'armazenamento', 'eficientes', '.', '\\r\\n', 'Sistemas', 'Operacionais', 'Redes', 'Computadores', ':', 'Ensinar', 'fundamentos', 'sistemas', 'operacionais', 'redes', ',', 'preparando', 'alunos', 'compreender', 'interações', 'hardware', 'software', '.', '\\r\\n\\r\\n', '2º', 'Semestre', '\\r\\n', 'Técnica', 'Programação', 'I', ':', 'Desenvolver', 'habilidades', 'programação', 'orientada', 'objetos', ',', 'foco', 'abstração', ',', 'encapsulamento', ',', 'herança', 'polimorfismo', ',', 'interfaces', 'gráficas', 'controle', 'exceções', '.', '\\r\\n', 'Desenvolvimento', 'Web', 'II', ':', 'Avançar', 'desenvolvimento', 'web', ',', 'trabalhando', 'frameworks', ',', 'banco', 'dados', 'criando', 'APIs', 'aplicações', '.', '\\r\\n', 'Matemática', 'Computação', ':', 'Prover', 'fundamentos', 'matemáticos', 'apoiar', 'desenvolvimento', 'algoritmos', 'soluções', 'computacionais', '.', '\\r\\n', 'Engenharia', 'Software', 'II', ':', 'Aprofundar', 'conceitos', 'engenharia', 'software', ',', 'ênfase', 'gerenciamento', 'requisitos', ',', 'design', 'validação', 'software', '.', '\\r\\n', 'Banco', 'Dados', 'Relacional', ':', 'Ensinar', 'trabalhar', 'bancos', 'dados', 'relacionais', ',', 'focando', 'consultas', 'SQL', 'manipulação', 'dados', '.', '\\r\\n', 'Estrutura', 'Dados', ':', 'Introduzir', 'principais', 'estruturas', 'dados', '(', 'listas', ',', 'pilhas', ',', 'filas', ',', 'árvores', ')', 'implementações', '.', '\\r\\n\\r\\n', '3º', 'Semestre', '\\r\\n', 'Técnica', 'Programação', 'II', ':', 'Aplicar', 'padrões', 'projeto', 'desenvolvimento', 'aplicações', 'orientadas', 'objetos', '.', '\\r\\n', 'Desenvolvimento', 'Web', 'III', ':', 'Focar', 'desenvolvimento', 'aplicações', 'web', 'escaláveis', 'seguras', ',', 'utilizando', 'práticas', 'integração', 'entrega', 'contínua', '.', '\\r\\n', 'Álgebra', 'Linear', ':', 'Fornecer', 'base', 'sólida', 'álgebra', 'linear', 'auxiliar', 'resolução', 'problemas', 'computacionais', 'machine', 'learning', '.', '\\r\\n', 'Gestão', 'Ágil', 'Projetos', 'Software', ':', 'Ensinar', 'metodologias', 'ágeis', 'gestão', 'projetos', ',', 'Scrum', 'Kanban', ',', 'desenvolvimento', 'software', '.', '\\r\\n', 'Banco', 'Dados', 'Não-Relacional', ':', 'Trabalhar', 'bancos', 'dados', 'NoSQL', ',', 'entendendo', 'características', 'aplicações', '.', '\\r\\n', 'Interação', 'Humano-Computador', ':', 'Ensinar', 'princípios', 'design', 'interfaces', 'interação', 'sistemas', ',', 'focando', 'experiência', 'usuário', '.', '\\r\\n\\r\\n', '4º', 'Semestre', '\\r\\n', 'Integração', 'Entrega', 'Contínua', ':', 'Ensinar', 'melhores', 'práticas', 'integração', 'entrega', 'contínua', 'software', ',', 'incluindo', 'versionamento', 'automação', 'testes', '.', '\\r\\n', 'Laboratório', 'Desenvolvimento', 'Web', ':', 'Oferecer', 'ambiente', 'prático', 'aplicar', 'conceitos', 'desenvolvimento', 'web', ',', 'foco', 'projetos', 'práticos', '.', '\\r\\n', 'Internet', 'Coisas', '(', 'IoT', '):', 'Introduzir', 'conceito', 'IoT', 'capacitar', 'alunos', 'desenvolver', 'sistemas', 'conectados', 'inteligentes', '.', '\\r\\n', 'Programação', 'Dispositivos', 'Móveis', 'I', ':', 'Ensinar', 'desenvolvimento', 'aplicações', 'móveis', ',', 'foco', 'Android', 'iOS', '.', '\\r\\n', 'Estatística', 'Aplicada', ':', 'Prover', 'conhecimentos', 'estatística', 'análise', 'dados', ',', 'aplicáveis', 'projetos', 'software', 'machine', 'learning', '.', '\\r\\n', 'Experiência', 'Usuário', '(', 'UX', '):', 'Aprofundar', 'conceitos', 'UX', ',', 'focando', 'melhorar', 'interação', 'satisfação', 'usuários', '.', '\\r\\n\\r\\n', '5º', 'Semestre', '\\r\\n', 'Computação', 'Nuvem', 'I', ':', 'Ensinar', 'fundamentos', 'computação', 'nuvem', 'infraestrutura', 'servidores', 'virtuais', '.', '\\r\\n', 'Aprendizagem', 'Máquina', ':', 'Introduzir', 'aluno', 'conceitos', 'algoritmos', 'machine', 'learning', ',', 'aplicando-os', 'problemas', 'reais', '.', '\\r\\n', 'Laboratório', 'Desenvolvimento', 'Móvel', ':', 'Aplicar', 'técnicas', 'desenvolvimento', 'aplicativos', 'móveis', 'ambiente', 'laboratório', 'prático', '.', '\\r\\n', 'Programação', 'Dispositivos', 'Móveis', 'II', ':', 'Avançar', 'desenvolvimento', 'aplicações', 'móveis', ',', 'integrando', 'tecnologias', 'frameworks', '.', '\\r\\n', 'Segurança', 'Desenvolvimento', 'Aplicações', ':', 'Ensinar', 'boas', 'práticas', 'segurança', 'desenvolvimento', 'software', ',', 'protegendo', 'dados', 'garantindo', 'integridade', 'sistemas', '.', '\\r\\n\\r\\n', '6º', 'Semestre', '\\r\\n', 'Computação', 'Nuvem', 'II', ':', 'Aprofundar', 'conceitos', 'computação', 'nuvem', ',', 'foco', 'arquiteturas', 'escaláveis', 'automação', '.', '\\r\\n', 'Processamento', 'Linguagem', 'Natural', '(', 'PLN', '):', 'Introduzir', 'alunos', 'técnicas', 'ferramentas', 'PLN', 'desenvolver', 'sistemas', 'entendem', 'processam', 'linguagem', 'humana', '.', '\\r\\n', 'Mineração', 'Dados', ':', 'Ensinar', 'técnicas', 'mineração', 'dados', 'extrair', 'informações', 'valiosas', 'conjuntos', 'dados', '.', '\\r\\n', 'Qualidade', 'Testes', 'Software', ':', 'Focar', 'garantia', 'qualidade', 'software', 'testes', 'automatizados', 'metodologias', 'validação', '.', '\\r\\n\\r\\n\\r\\n', 'Certificações', 'Microcertificações', '\\r\\n', 'aluno', 'obtém', '6', 'Microcertificações', '3', 'Certificações', 'Intermediárias', 'longo', 'curso', ',', 'garantindo', 'feedback', 'contínuo', 'desempenho', '.', ',', 'aluno', 'recebe', 'diploma', 'Tecnólogo', 'Desenvolvimento', 'Software', 'Multiplataforma', '.', '\\r\\n', 'Microcertificações', ':', 'Front-End', 'Básico', ',', 'Design', 'Patterns', 'Básico', ',', 'UX', 'Básico', '.', '\\r\\n', 'Certificações', 'Intermediárias', ':', 'Desenvolvedor', 'Front-End', ',', 'Desenvolvedor', 'Back-End', ',', 'Desenvolvedor', 'Dispositivos', 'Móveis', '.', '\\r\\n\\r\\n', 'Regras', 'Faculdade', '\\r\\n', 'Estágio', 'Curricular', 'Supervisionado', ':', '240', 'horas', 'obrigatórias', '.', '\\r\\n', 'Projeto', 'Integrador', ':', 'portfólio', 'digital', 'será', 'construído', 'longo', 'semestres', 'substitui', 'Trabalho', 'Graduação', '.', 'projetos', 'desenvolvidos', 'últimos', 'semestres', 'utilizados', 'compor', 'portfólio', '.', '\\r\\n', 'Horas', 'Complementares', ':', 'especificado', 'diretamente', ',', 'há', 'forte', 'ênfase', 'projetos', 'interdisciplinares', 'pesquisa', ',', 'atividades', 'complementares', '.', '\\r\\n\\r\\n', 'Metodologia', 'Ensino', ':', '\\r\\n', 'curso', 'utiliza', 'abordagem', 'centrada', 'aluno', ',', 'metodologias', 'ativas', ',', 'aprendizagem', 'baseada', 'problemas', '(', 'PBL', ')', ',', 'projetos', 'interdisciplinares', 'estudo', 'casos', '.', '\\r\\n', 'Há', 'foco', 'aprendizado', 'prático', 'desenvolvimento', 'competências', 'refletem', 'demandas', 'mercado', 'trabalho', '.', '\\r\\n', 'atividades', 'projetadas', 'estimular', 'desenvolvimento', 'habilidades', 'trabalho', 'equipe', ',', 'autonomia', ',', 'resolução', 'problemas', ',', 'competências', 'técnicas', '.', '\\r\\n', 'Recursos', 'Tecnológicos', ':', '\\r\\n', 'curso', 'uso', 'ferramentas', 'digitais', 'ambientes', 'virtuais', 'aprendizagem', ',', 'Microsoft', 'Teams', ',', 'aulas', 'remotas', 'acompanhamento', 'atividades', '.', '\\r\\n', 'Há', 'laboratórios', 'especializados', ',', 'incluindo', 'laboratórios', 'hardware', 'software', ',', 'integrados', 'conteúdo', 'curricular', ',', 'oferecendo', 'suporte', 'aprendizado', 'prático', '.', '\\r\\n\\r\\n', 'Critérios', 'Avaliação', ':', '\\r\\n', 'Avaliações', 'contínuas', 'feitas', 'longo', 'curso', ',', 'envolvendo', 'provas', ',', 'trabalhos', 'práticos', 'desenvolvimento', 'projetos', '.', '\\r\\n', ',', 'microcertificações', 'mencionadas', 'integradas', 'avaliação', ',', 'proporcionando', 'aluno', 'feedback', 'competências', 'adquiridas', 'várias', 'etapas', 'curso', '.', '\\r\\n\\r\\n', 'Trilhas', 'Carreira', ':', '\\r\\n', 'curso', 'projetado', 'alunos', 'sigam', 'trilhas', 'carreira', 'focadas', 'Desenvolvimento', 'Web', ',', 'Desenvolvimento', 'Mobile', 'Back-End', '.', '\\r\\n', 'trilhas', 'complementadas', 'certificações', 'intermediárias', 'facilitam', 'inserção', 'mercado', 'trabalho', 'conclusão', 'curso', '.', '\\r\\n\\r\\n', 'Integração', 'Mercado', ':', '\\r\\n', 'curso', 'possui', 'parcerias', 'empresas', 'setor', 'tecnologia', ',', 'facilitando', 'inserção', 'alunos', 'mercado', 'trabalho', 'estágios', ',', 'projetos', 'colaborativos', 'eventos', 'networking', '.', '\\r\\n', ',', 'competências', 'desenvolvidas', 'longo', 'curso', 'diretamente', 'relacionadas', 'demandas', 'atuais', 'mercado', 'desenvolvimento', 'software', '.', '\\r\\n\\r\\n', 'Perfil', 'Egresso', ':', '\\r\\n', 'perfil', 'egresso', 'focado', 'profissional', 'capaz', 'atuar', 'diversas', 'áreas', 'desenvolvimento', 'software', ',', 'análise', ',', 'desenvolvimento', 'manutenção', 'sistemas', 'diferentes', 'plataformas', '.', '\\r\\n', 'egresso', 'preparado', 'continuar', 'aprendendo', 'tecnologias', 'adaptando-se', 'mudanças', 'rápidas', 'setor', '.', '\\r\\n\\r\\n', 'Atendimento', 'Estudante', ':', '\\r\\n', 'faculdade', 'oferece', 'suporte', 'acadêmico', 'orientação', 'profissional', 'alunos', 'monitorias', ',', 'orientações', 'professores', 'construção', 'portfólio', 'profissional', '.', '\\r\\n\\r\\n']\n"
          ]
        }
      ]
    },
    {
      "cell_type": "markdown",
      "source": [
        "# Criando a interação de pergunta e respostas <br>\n",
        "Para essa fase, precisamos aplicar as técnicas de similaridade, que vão buscar a semelhança entre as palavras escritas pelo usuário e as palavras tokenizadas."
      ],
      "metadata": {
        "id": "M97Zu-txXL1W"
      }
    },
    {
      "cell_type": "code",
      "source": [
        "# def buscar_resposta(pergunta):\n",
        "#     pergunta_doc = nlp(pergunta)\n",
        "\n",
        "#     # Inicializar variáveis para armazenar a melhor sentença e a similaridade\n",
        "#     melhor_sentenca = None\n",
        "#     melhor_similaridade = 0\n",
        "\n",
        "#     # Iterar sobre as sentenças do texto já tokenizado e segmentado\n",
        "#     for sent in texto_limpo.sents:\n",
        "#         # Filtrar tokens significativos (remover pontuações e stop words)\n",
        "#         tokens_significativos = [token for token in sent if not token.is_stop and not token.is_punct]\n",
        "#         if pergunta_doc.vector_norm and tokens_significativos:  # Vetores não são vazios e tokens significativos existem\n",
        "#             sent_reduced = nlp(\" \".join([token.text for token in tokens_significativos]))\n",
        "#             similaridade = pergunta_doc.similarity(sent_reduced)\n",
        "\n",
        "#             # Atualizar a melhor sentença se a similaridade for maior\n",
        "#             if similaridade > melhor_similaridade:\n",
        "#                 melhor_similaridade = similaridade\n",
        "#                 melhor_sentenca = sent.text\n",
        "\n",
        "#     # Retornar a melhor sentença encontrada ou uma mensagem padrão\n",
        "#     if melhor_sentenca:\n",
        "#         return melhor_sentenca\n",
        "#     return \"Desculpe, não consegui encontrar uma resposta.\"\n",
        "\n",
        "\n",
        "# # Exemplo de uso\n",
        "# pergunta_usuario = input(\"Digite sua pergunta: \")\n",
        "# resposta = buscar_resposta(pergunta_usuario)\n",
        "# print(resposta)\n"
      ],
      "metadata": {
        "colab": {
          "base_uri": "https://localhost:8080/"
        },
        "id": "AaKP2py4XbE_",
        "outputId": "664765e9-1c0a-4238-e749-2e4aa2635cd9"
      },
      "execution_count": 33,
      "outputs": [
        {
          "output_type": "stream",
          "name": "stdout",
          "text": [
            "Digite sua pergunta: design\n",
            "Aprofundar os conceitos de engenharia de software, com ênfase no gerenciamento de requisitos, design e validação de software.\n",
            "\n"
          ]
        },
        {
          "output_type": "stream",
          "name": "stderr",
          "text": [
            "<ipython-input-33-644129e00bd0>:14: UserWarning: [W008] Evaluating Doc.similarity based on empty vectors.\n",
            "  similaridade = pergunta_doc.similarity(sent_reduced)\n"
          ]
        }
      ]
    },
    {
      "cell_type": "markdown",
      "source": [
        "Neste ponto observamos que estamos trazendo apenas uma sentença relacionada com a pergunta. Por isso, resolvemos trazer uma combinação de frases que se relacionam com o termo buscado"
      ],
      "metadata": {
        "id": "zLUlv1w1YOD-"
      }
    },
    {
      "cell_type": "code",
      "source": [
        "def buscar_resposta(pergunta):\n",
        "    pergunta_doc = nlp(pergunta)\n",
        "    palavra_chave = pergunta.lower()  # Captura a palavra-chave da pergunta\n",
        "    respostas_relacionadas = []\n",
        "\n",
        "    # Iterar sobre as sentenças do texto\n",
        "    for sent in texto_limpo.sents:\n",
        "        if palavra_chave in sent.text.lower():  # Verifica se a palavra-chave está na sentença\n",
        "            if pergunta_doc.vector_norm and sent.vector_norm:\n",
        "                similaridade = pergunta_doc.similarity(sent)  # Calcular a similaridade\n",
        "                # Adiciona a sentença se tiver a palavra-chave e uma boa similaridade\n",
        "                if similaridade > 0.1:  # Você pode ajustar esse limite\n",
        "                    respostas_relacionadas.append(sent.text)\n",
        "\n",
        "    # Retornar todas as sentenças que têm a palavra-chave e similaridade\n",
        "    if respostas_relacionadas:\n",
        "        return \" \".join(respostas_relacionadas)\n",
        "\n",
        "    return \"Desculpe, não consegui encontrar uma resposta para sua pergunta.\"\n",
        "\n",
        "# Exemplo de uso\n",
        "pergunta_usuario = input(\"Digite sua pergunta: \")\n",
        "resposta = buscar_resposta(pergunta_usuario)\n",
        "print(resposta)\n"
      ],
      "metadata": {
        "colab": {
          "base_uri": "https://localhost:8080/"
        },
        "id": "EAdaapOUYUR-",
        "outputId": "d055d683-5e20-4638-d429-7064c97191ab"
      },
      "execution_count": 38,
      "outputs": [
        {
          "output_type": "stream",
          "name": "stdout",
          "text": [
            "Digite sua pergunta: design\n",
            "Design Digital: Ensinar os princípios de design digital, focando na criação de interfaces gráficas, experiência do usuário e interação com sistemas computacionais.\n",
            " Aprofundar os conceitos de engenharia de software, com ênfase no gerenciamento de requisitos, design e validação de software.\n",
            " Ensinar princípios de design de interfaces e interação com sistemas, focando na experiência do usuário.\n",
            "\n",
            "4º Semestre\n",
            "Integração e Entrega Exemplo de Microcertificações: Front-End Básico, Design Patterns Básico, UX Básico.\n",
            "\n"
          ]
        }
      ]
    }
  ]
}